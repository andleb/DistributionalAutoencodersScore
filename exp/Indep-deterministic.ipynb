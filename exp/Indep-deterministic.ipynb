{
 "cells": [
  {
   "metadata": {},
   "cell_type": "markdown",
   "source": "# Conditional independence testing for deterministic extraneous latents",
   "id": "588f4ba0c9977fb4"
  },
  {
   "metadata": {},
   "cell_type": "markdown",
   "source": "# Import",
   "id": "55e07a80399a2120"
  },
  {
   "metadata": {},
   "cell_type": "code",
   "outputs": [],
   "execution_count": null,
   "source": [
    "import copy\n",
    "import os"
   ],
   "id": "43cd64ab49e89875"
  },
  {
   "cell_type": "code",
   "id": "e30db717c426fcef",
   "metadata": {
    "ExecuteTime": {
     "end_time": "2025-07-29T22:18:13.090547Z",
     "start_time": "2025-07-29T22:18:13.086905Z"
    }
   },
   "source": [
    "import joblib"
   ],
   "outputs": [],
   "execution_count": 56
  },
  {
   "cell_type": "code",
   "id": "bd849f2ee10a5eb6",
   "metadata": {
    "ExecuteTime": {
     "end_time": "2025-07-29T22:18:13.148769Z",
     "start_time": "2025-07-29T22:18:13.146723Z"
    }
   },
   "source": [
    "import re"
   ],
   "outputs": [],
   "execution_count": 57
  },
  {
   "cell_type": "code",
   "id": "5efce113b5db711d",
   "metadata": {
    "ExecuteTime": {
     "end_time": "2025-07-29T22:18:13.227489Z",
     "start_time": "2025-07-29T22:18:13.225560Z"
    }
   },
   "source": [
    "import torch\n",
    "import numpy as np"
   ],
   "outputs": [],
   "execution_count": 58
  },
  {
   "cell_type": "code",
   "id": "3453c77d48aafd50",
   "metadata": {
    "ExecuteTime": {
     "end_time": "2025-07-29T22:18:13.267819Z",
     "start_time": "2025-07-29T22:18:13.265887Z"
    }
   },
   "source": [
    "import matplotlib.pyplot as plt"
   ],
   "outputs": [],
   "execution_count": 59
  },
  {
   "cell_type": "code",
   "id": "c0ae613f9da0d967",
   "metadata": {
    "ExecuteTime": {
     "end_time": "2025-07-29T22:18:13.348128Z",
     "start_time": "2025-07-29T22:18:13.346136Z"
    }
   },
   "source": [
    "from scipy.stats import multivariate_normal"
   ],
   "outputs": [],
   "execution_count": 60
  },
  {
   "cell_type": "code",
   "id": "c8fde453c2e97459",
   "metadata": {
    "ExecuteTime": {
     "end_time": "2025-07-29T22:18:13.416625Z",
     "start_time": "2025-07-29T22:18:13.414413Z"
    }
   },
   "source": [
    "import warnings\n",
    "\n",
    "warnings.filterwarnings('ignore', category=FutureWarning)\n",
    "warnings.filterwarnings(\"ignore\", category=UserWarning)"
   ],
   "outputs": [],
   "execution_count": 61
  },
  {
   "cell_type": "code",
   "id": "28ca40b10320d659",
   "metadata": {
    "ExecuteTime": {
     "end_time": "2025-07-29T22:18:13.472549Z",
     "start_time": "2025-07-29T22:18:13.470679Z"
    }
   },
   "source": [
    "import seaborn as sns"
   ],
   "outputs": [],
   "execution_count": 62
  },
  {
   "cell_type": "code",
   "id": "11ba9076ecef28cf",
   "metadata": {
    "ExecuteTime": {
     "end_time": "2025-07-29T22:18:13.561066Z",
     "start_time": "2025-07-29T22:18:13.557701Z"
    }
   },
   "source": [
    "torch.cuda.is_available()"
   ],
   "outputs": [
    {
     "data": {
      "text/plain": [
       "True"
      ]
     },
     "execution_count": 63,
     "metadata": {},
     "output_type": "execute_result"
    }
   ],
   "execution_count": 63
  },
  {
   "cell_type": "code",
   "id": "a09c027986e88e6d",
   "metadata": {
    "ExecuteTime": {
     "end_time": "2025-07-29T22:18:13.612166Z",
     "start_time": "2025-07-29T22:18:13.609463Z"
    }
   },
   "source": [
    "torch.__version__"
   ],
   "outputs": [
    {
     "data": {
      "text/plain": [
       "'2.4.0+cu121'"
      ]
     },
     "execution_count": 64,
     "metadata": {},
     "output_type": "execute_result"
    }
   ],
   "execution_count": 64
  },
  {
   "cell_type": "code",
   "id": "f990341d67d438aa",
   "metadata": {
    "ExecuteTime": {
     "end_time": "2025-07-29T22:18:13.695683Z",
     "start_time": "2025-07-29T22:18:13.693844Z"
    }
   },
   "source": [
    "import sys"
   ],
   "outputs": [],
   "execution_count": 65
  },
  {
   "metadata": {},
   "cell_type": "code",
   "outputs": [],
   "execution_count": null,
   "source": [
    "import GPUtil\n",
    "\n",
    "if torch.cuda.is_available():\n",
    "\n",
    "    available_gpus = GPUtil.getAvailable(order='memory', limit=1)\n",
    "\n",
    "    if available_gpus:\n",
    "        selected_gpu = available_gpus[0]\n",
    "\n",
    "        device = torch.device(f\"cuda:{selected_gpu}\")\n",
    "\n",
    "        print(f\"Using GPU: {selected_gpu} with the lowest memory usage.\")\n",
    "    else:\n",
    "        print(\"No GPUs available with low memory usage.\")\n",
    "else:\n",
    "    device = torch.device(\"cpu\")\n",
    "\n",
    "print(device)"
   ],
   "id": "20948b82911bcee"
  },
  {
   "metadata": {},
   "cell_type": "code",
   "outputs": [],
   "execution_count": null,
   "source": [
    "\n",
    "torch.manual_seed(42);"
   ],
   "id": "4c6c661b3e1b05af"
  },
  {
   "metadata": {},
   "cell_type": "code",
   "outputs": [],
   "execution_count": null,
   "source": "",
   "id": "c0031b9961a11beb"
  },
  {
   "metadata": {},
   "cell_type": "code",
   "outputs": [],
   "execution_count": null,
   "source": "",
   "id": "e76b24ed79c1ffe2"
  },
  {
   "metadata": {},
   "cell_type": "code",
   "outputs": [],
   "execution_count": null,
   "source": [
    "sys.path.append(\"./src/DistributionalPrincipalAutoencoder\")\n",
    "sys.path.append(\"./src/engression\")\n",
    "sys.path.append(\"./src/mlcolvar\")\n",
    "sys.path.append(\"./src/PyTorch-VAE\")"
   ],
   "id": "24f276f60a610f71"
  },
  {
   "metadata": {},
   "cell_type": "code",
   "outputs": [],
   "execution_count": null,
   "source": [
    "sys.path.append(\"src/DistributionalPrincipalAutoencoder\")\n",
    "sys.path.append(\"src/engression\")\n",
    "sys.path.append(\"src/mlcolvar\")\n",
    "sys.path.append(\"src/PyTorch-VAE\")"
   ],
   "id": "68f6c24c5a45c5"
  },
  {
   "cell_type": "code",
   "id": "c3c2efcb33d1b06a",
   "metadata": {
    "ExecuteTime": {
     "end_time": "2025-07-29T22:18:14.259768Z",
     "start_time": "2025-07-29T22:18:14.257793Z"
    }
   },
   "source": [
    "from dpa.dpa_fit import DPA"
   ],
   "outputs": [],
   "execution_count": 73
  },
  {
   "metadata": {},
   "cell_type": "code",
   "outputs": [],
   "execution_count": null,
   "source": [
    "\n",
    "from mlcolvar.utils.plot import muller_brown_potential, plot_isolines_2D, plot_metrics, plot_gradient_2D, \\\n",
    "    plot_streamlines_2D, plot_level_center_vectors_2D"
   ],
   "id": "d10662a85c47d35a"
  },
  {
   "metadata": {},
   "cell_type": "code",
   "outputs": [],
   "execution_count": null,
   "source": "import math",
   "id": "18b86237e4eb697c"
  },
  {
   "cell_type": "code",
   "id": "6c4f65d16b21b53",
   "metadata": {
    "ExecuteTime": {
     "end_time": "2025-07-29T22:18:14.416615Z",
     "start_time": "2025-07-29T22:18:14.414723Z"
    }
   },
   "source": [
    "from scipy.stats import kstest"
   ],
   "outputs": [],
   "execution_count": 76
  },
  {
   "cell_type": "code",
   "id": "bb528dcb3dcbd7b4",
   "metadata": {
    "ExecuteTime": {
     "end_time": "2025-07-29T22:18:14.484208Z",
     "start_time": "2025-07-29T22:18:14.482353Z"
    }
   },
   "source": [
    "use_threads = 20"
   ],
   "outputs": [],
   "execution_count": 77
  },
  {
   "metadata": {},
   "cell_type": "code",
   "outputs": [],
   "execution_count": null,
   "source": [
    "def slurm_cpus():\n",
    "    for var in (\"SLURM_CPUS_PER_TASK\", \"SLURM_CPUS_ON_NODE\"):\n",
    "        if var in os.environ:\n",
    "            return int(os.environ[var])\n",
    "\n",
    "    try:\n",
    "        import psutil\n",
    "        return len(psutil.Process().cpu_affinity())\n",
    "    except Exception:\n",
    "        return None\n",
    "\n",
    "\n",
    "n_threads = slurm_cpus() or 1\n",
    "print(f\"Nthreads {n_threads}\")\n",
    "n_threads = min(n_threads, use_threads)\n",
    "print(\"Use\", n_threads, \"threads\")\n",
    "\n",
    "os.environ[\"OMP_NUM_THREADS\"] = f\"{n_threads}\"\n",
    "os.environ[\"MKL_NUM_THREADS\"] = f\"{n_threads}\"\n",
    "os.environ[\"OPENBLAS_NUM_THREADS\"] = f\"{n_threads}\"\n",
    "torch.set_num_threads(n_threads)"
   ],
   "id": "167f5bbe45d4ff98"
  },
  {
   "metadata": {},
   "cell_type": "code",
   "outputs": [],
   "execution_count": null,
   "source": [
    "import numpy as np\n",
    "import torch\n",
    "import scipy\n",
    "from scipy import stats"
   ],
   "id": "41882571b5fb7d26"
  },
  {
   "cell_type": "markdown",
   "id": "4474151eccf63ee4",
   "metadata": {
    "jp-MarkdownHeadingCollapsed": true
   },
   "source": [
    "# Plot setup"
   ]
  },
  {
   "cell_type": "markdown",
   "id": "9c951abf183f6a11",
   "metadata": {},
   "source": [
    "**TODO: disable this when plotting for the paper!**"
   ]
  },
  {
   "metadata": {},
   "cell_type": "code",
   "outputs": [],
   "execution_count": null,
   "source": [
    "plt.rcParams['axes.grid'] = False\n",
    "plt.rcParams['figure.figsize'] = (6, 4)\n",
    "plt.rcParams['figure.dpi'] = 80\n",
    "plt.rcParams['axes.facecolor'] = 'white'"
   ],
   "id": "2ededfa972da5d2c"
  },
  {
   "metadata": {},
   "cell_type": "markdown",
   "source": "# Boilerplate Code",
   "id": "88aa283b84e9de6d"
  },
  {
   "metadata": {},
   "cell_type": "code",
   "outputs": [],
   "execution_count": null,
   "source": [
    "\n",
    "def extract_first_numbers_after_epoch(filename):\n",
    "    with open(filename, 'r') as file:\n",
    "        text = file.read()\n",
    "\n",
    "    pattern = r'\\[Epoch (\\d+)\\]\\s+([-*\\d.]+)'\n",
    "    matches = re.findall(pattern, text)\n",
    "    numbers = np.array([(float(m1), float(m2)) for m1, m2 in matches])\n",
    "    return numbers"
   ],
   "id": "5edeb93d3a8a0e23"
  },
  {
   "metadata": {},
   "cell_type": "code",
   "outputs": [],
   "execution_count": null,
   "source": [
    "class EncoderModule(torch.nn.Module):\n",
    "    def __init__(self, trained_model, standardize=False, x_mean=None, x_std=None):\n",
    "        super(EncoderModule, self).__init__()\n",
    "        self.trained_model = trained_model\n",
    "        self.trained_model.raw = trained_model.model\n",
    "        self.encoder = self.trained_model.model.encoder\n",
    "        if standardize is None:\n",
    "            self.standardize = self.trained_model.standardize\n",
    "        else:\n",
    "            self.standardize = standardize\n",
    "        if x_mean is None:\n",
    "            self.x_mean = self.trained_model.x_mean\n",
    "        else:\n",
    "            self.x_mean = x_mean\n",
    "        if x_std is None:\n",
    "            self.x_std = self.trained_model.x_std\n",
    "        else:\n",
    "            self.x_std = x_std\n",
    "\n",
    "        self.device = next(self.encoder.parameters()).device\n",
    "\n",
    "    def forward(self, x, k=None, mean=True, gen_sample_size=100):\n",
    "        if not isinstance(x, torch.Tensor):\n",
    "            x = torch.tensor(x, dtype=torch.float32, requires_grad=True)\n",
    "        x = x.to(self.device)\n",
    "\n",
    "        if not x.requires_grad:\n",
    "            x.requires_grad_(True)\n",
    "\n",
    "        if self.standardize:\n",
    "            x = (x - self.x_mean.to(self.device)) / self.x_std.to(self.device)\n",
    "\n",
    "        if k is None:\n",
    "            k = self.trained_model.latent_dim\n",
    "        if self.trained_model.encoder_k:\n",
    "            x = self.trained_model.get_k_embedding(k, x)\n",
    "\n",
    "        z = self.encoder(x)\n",
    "\n",
    "        return z[:, :k]"
   ],
   "id": "222bf0ee3200d3ff"
  },
  {
   "metadata": {},
   "cell_type": "code",
   "outputs": [],
   "execution_count": null,
   "source": [
    "def plot_3d(points, points_color=None, title=None, save_dir=None):\n",
    "    x, y, z = points.T\n",
    "    fig, ax = plt.subplots(\n",
    "        figsize=(5, 5),\n",
    "        facecolor=\"white\",\n",
    "        tight_layout=True,\n",
    "        subplot_kw={\"projection\": \"3d\"},\n",
    "    )\n",
    "    if title is not None:\n",
    "        fig.suptitle(title, size=16)\n",
    "    col = ax.scatter(x, y, z, c=points_color, s=50, alpha=0.8)\n",
    "    ax.view_init(azim=-60, elev=9)\n",
    "    if save_dir is not None:\n",
    "        plt.savefig(save_dir, bbox_inches='tight')\n",
    "    plt.show()"
   ],
   "id": "35a2d94c787c325b"
  },
  {
   "cell_type": "markdown",
   "id": "742b29fdf03a24ac",
   "metadata": {},
   "source": [
    "# Data generating code"
   ]
  },
  {
   "metadata": {},
   "cell_type": "code",
   "outputs": [],
   "execution_count": null,
   "source": [
    "def make_linear_line(n=3_000, noise_std=0.1):\n",
    "    z = np.random.randn(n, 1)\n",
    "    eps = noise_std * np.random.randn(n, 1)\n",
    "    X = np.concatenate([z, eps], axis=1)\n",
    "\n",
    "    return X.astype(np.float32)\n",
    "\n",
    "\n",
    "def parabola(n=2000):\n",
    "    t = np.random.uniform(-1, 1, n)[:, None]\n",
    "    return np.hstack([t, t ** 2])\n",
    "\n",
    "\n",
    "def exponential(n=2000):\n",
    "    t = np.random.uniform(-3, 3, n)[:, None]\n",
    "    return np.hstack((t, np.exp(t)))\n",
    "\n",
    "\n",
    "def helix_slice(n=2000):\n",
    "    t = np.random.uniform(0, 4 * np.pi, n)[:, None]\n",
    "    return np.hstack((t, np.cos(t)))\n",
    "\n",
    "\n",
    "def grid_sum(n_side=60):\n",
    "    s = np.linspace(-1, 1, n_side)\n",
    "    xx, yy = np.meshgrid(s, s)\n",
    "    Z = np.column_stack([xx.ravel(), yy.ravel()])\n",
    "    U = Z.sum(axis=1, keepdims=True)\n",
    "    return np.hstack((Z, U))\n",
    "\n",
    "\n",
    "GENS = dict(parabola=parabola,\n",
    "            exponential=exponential,\n",
    "            helix_slice=helix_slice,\n",
    "            grid_sum=grid_sum)"
   ],
   "id": "b84f35ae2d8dcce8"
  },
  {
   "cell_type": "markdown",
   "id": "5a4fa1f45a557d31",
   "metadata": {},
   "source": "## Determinism code"
  },
  {
   "cell_type": "code",
   "id": "9df1eab465ee5796",
   "metadata": {
    "ExecuteTime": {
     "end_time": "2025-07-29T22:18:16.138630Z",
     "start_time": "2025-07-29T22:18:16.136115Z"
    }
   },
   "source": [
    "from sklearn.preprocessing import SplineTransformer\n",
    "from sklearn.linear_model import LinearRegression\n",
    "from sklearn.metrics import r2_score\n",
    "from sklearn.preprocessing import PolynomialFeatures\n",
    "from sklearn.preprocessing import StandardScaler, PolynomialFeatures, SplineTransformer"
   ],
   "outputs": [],
   "execution_count": 96
  },
  {
   "metadata": {},
   "cell_type": "code",
   "outputs": [],
   "execution_count": null,
   "source": [
    "\n",
    "\n",
    "from npeet import entropy_estimators as ee\n",
    "from sklearn.neighbors import NearestNeighbors\n",
    "from skdim.id import TwoNN\n",
    "from skdim import id as skid"
   ],
   "id": "342d2f7309636f9"
  },
  {
   "metadata": {},
   "cell_type": "code",
   "outputs": [],
   "execution_count": null,
   "source": [
    "\n",
    "\n",
    "def _fit_model(Z, U, model, **kwargs):\n",
    "    \"\"\"\n",
    "    Internal helper: fit chosen model type and return predictions.\n",
    "    Currently supported:\n",
    "        'poly'   : polynomial up to degree d (default d=8)\n",
    "        'spline' : cubic spline with n_knots (default 15)\n",
    "        'rf'     : Random‑Forest (robust non‑parametric baseline)\n",
    "    \"\"\"\n",
    "    if model == 'poly':\n",
    "        deg = kwargs.get('degree', 12)\n",
    "        scaler = StandardScaler()\n",
    "        Zs = scaler.fit_transform(Z)\n",
    "\n",
    "        Zb = PolynomialFeatures(degree=deg, include_bias=True).fit_transform(Zs)\n",
    "        y_pred = LinearRegression().fit(Zb, U).predict(Zb)\n",
    "\n",
    "    elif model == 'spline':\n",
    "        deg = kwargs.get('degree', 3)\n",
    "        n_knots = kwargs.get('n_knots', 15)\n",
    "        Zb = SplineTransformer(degree=deg, n_knots=n_knots).fit_transform(Z)\n",
    "        y_pred = LinearRegression().fit(Zb, U).predict(Zb)\n",
    "\n",
    "    elif model == 'rf':\n",
    "        from sklearn.ensemble import RandomForestRegressor\n",
    "        scaler = StandardScaler()\n",
    "        Zs = scaler.fit_transform(Z)\n",
    "\n",
    "        n_estimators = kwargs.get('n_estimators', 400)\n",
    "        min_samples_leaf = kwargs.get('min_samples_leaf', 2)\n",
    "\n",
    "        est = RandomForestRegressor(\n",
    "            n_estimators=n_estimators,\n",
    "            min_samples_leaf=min_samples_leaf,\n",
    "            random_state=0, n_jobs=-1\n",
    "        ).fit(Zs, U.ravel())\n",
    "        y_pred = est.predict(Z)[:, None]\n",
    "\n",
    "    else:\n",
    "        raise ValueError(f\"Unknown model type '{model}'\")\n",
    "    return y_pred\n",
    "\n",
    "\n",
    "def determinism_check(Z, U, model='spline',\n",
    "                      r2_threshold=0.999, maxerr_threshold=1e-2, **kwargs):\n",
    "    \"\"\"\n",
    "    General‑purpose *vacuous CI* checker.\n",
    "\n",
    "    Parameters\n",
    "    ----------\n",
    "    Z : ndarray (n, d_z)\n",
    "    U : ndarray (n, d_u)\n",
    "    model : str\n",
    "        'spline' (default), 'poly', or 'rf'\n",
    "    r2_threshold : float\n",
    "        Pass if R² ≥ threshold.\n",
    "    maxerr_threshold : float\n",
    "        Pass if max |U - g(Z)| ≤ threshold.\n",
    "    kwargs : keyword args forwarded to _fit_model\n",
    "        • spline: degree=3, n_knots=15\n",
    "        • poly  : degree=12\n",
    "        • rf    : any Random‑Forest parameters\n",
    "\n",
    "    Returns\n",
    "    -------\n",
    "    dict with keys {max_err, mean_err, R2, passed}\n",
    "    \"\"\"\n",
    "    y_pred = _fit_model(Z, U, model, **kwargs)\n",
    "    resid = np.abs(U - y_pred)\n",
    "    max_err = resid.max()\n",
    "    mean_err = resid.mean()\n",
    "    R2 = r2_score(U, y_pred)\n",
    "    passed = (R2 >= r2_threshold) and (max_err <= maxerr_threshold)\n",
    "\n",
    "    return dict(max_err=max_err, mean_err=mean_err, R2=R2, passed=passed)\n"
   ],
   "id": "f64999e1595d63a9"
  },
  {
   "metadata": {},
   "cell_type": "code",
   "outputs": [],
   "execution_count": null,
   "source": [
    "def conditional_entropy(U, Z, k=5):\n",
    "    \"\"\"\n",
    "    k‑NN Kozachenko–Leonenko estimator:\n",
    "        H(U|Z) = H(U,Z) - H(Z).\n",
    "    U, Z must be 2‑D arrays  (n, d_u)  (n, d_z)\n",
    "    Returns entropy in nats.\n",
    "    \"\"\"\n",
    "    joint = np.hstack([U, Z])\n",
    "    h_joint = ee.entropy(joint, k=k)\n",
    "    h_z = ee.entropy(Z, k=k)\n",
    "    return h_joint - h_z\n",
    "\n",
    "\n",
    "def estimate_id(X, estimator='TwoNN', **kwargs):\n",
    "    \"\"\"\n",
    "    Estimate intrinsic dimension of point cloud X (n, d).\n",
    "    Supports d >= 1.\n",
    "    \"\"\"\n",
    "    if X.shape[1] == 1:\n",
    "\n",
    "        if estimator == 'fixed':\n",
    "            return 1.0\n",
    "\n",
    "        elif estimator == 'MLE':\n",
    "\n",
    "            X = np.repeat(X, 2, axis=1)\n",
    "\n",
    "        elif estimator == 'TwoNN':\n",
    "            X = np.repeat(X, 2, axis=1)\n",
    "        else:\n",
    "            raise ValueError(\"Unknown estimator for 1‑D input.\")\n",
    "\n",
    "    if estimator == 'TwoNN':\n",
    "        return skid.TwoNN(**kwargs).fit(X).dimension_\n",
    "    elif estimator == 'MLE':\n",
    "        return skid.MLE(**kwargs).fit(X).dimension_\n",
    "    else:\n",
    "        raise ValueError(f\"Unsupported estimator '{estimator}'.\")\n",
    "\n",
    "\n",
    "def intrinsic_dim_drop(Z, U, estimator='TwoNN', **kwargs):\n",
    "    \"\"\"\n",
    "    Returns intrinsic dimensions of Z and (Z,U) and their difference.\n",
    "    Works for any input dimension >= 1.\n",
    "    \"\"\"\n",
    "    id_Z = estimate_id(Z, estimator=estimator, **kwargs)\n",
    "    id_ZU = estimate_id(np.hstack([Z, U]),\n",
    "                        estimator=estimator,\n",
    "                        **kwargs)\n",
    "    return {'id_Z': id_Z, 'id_ZU': id_ZU, 'drop': id_ZU - id_Z}\n",
    "\n",
    "\n",
    "def bootstrap_dim_drop(Z, U, n_boot=200, k=15, eps=1e-10, estimator=\"MLE\"):\n",
    "    Z_dup = np.hstack([Z, Z])\n",
    "\n",
    "    drops = []\n",
    "\n",
    "    n = len(Z)\n",
    "    for _ in range(n_boot):\n",
    "        idx = np.random.choice(n, n, replace=True)\n",
    "        Zb = Z_dup[idx] + eps * np.random.randn(*Z_dup[idx].shape)\n",
    "        Ub = U[idx] + eps * np.random.randn(*U[idx].shape)\n",
    "\n",
    "        id_Z = estimate_id(Zb, estimator=estimator)\n",
    "\n",
    "        id_ZU = estimate_id(np.hstack([Zb, Ub]), estimator=estimator)\n",
    "        drops.append(id_ZU - id_Z)\n",
    "\n",
    "    return np.percentile(drops, [2.5, 50, 97.5]), np.array(drops)\n",
    "\n",
    "\n",
    "def bootstrap_dim_drop_bak(Z, U, n_boot=200, k=15, eps=1e-10):\n",
    "    Z_dup = np.hstack([Z, Z])\n",
    "    est = skid.MLE(K=k)\n",
    "    drops = []\n",
    "\n",
    "    n = len(Z)\n",
    "    for _ in range(n_boot):\n",
    "        idx = np.random.choice(n, n, replace=True)\n",
    "        Zb = Z_dup[idx] + eps * np.random.randn(*Z_dup[idx].shape)\n",
    "        Ub = U[idx] + eps * np.random.randn(*U[idx].shape)\n",
    "\n",
    "        id_Z = est.fit(Zb).dimension_\n",
    "        id_ZU = est.fit(np.hstack([Zb, Ub])).dimension_\n",
    "        drops.append(id_ZU - id_Z)\n",
    "\n",
    "    return np.percentile(drops, [2.5, 50, 97.5]), np.array(drops)\n"
   ],
   "id": "7a260ce454a236e4"
  },
  {
   "cell_type": "markdown",
   "id": "28df69db60c22e3a",
   "metadata": {},
   "source": [
    "# Gaussian line"
   ]
  },
  {
   "cell_type": "markdown",
   "id": "e9cdeb7634da173",
   "metadata": {},
   "source": [
    "## The model"
   ]
  },
  {
   "cell_type": "code",
   "id": "1d53fdb7063d1193",
   "metadata": {
    "ExecuteTime": {
     "end_time": "2025-07-29T22:18:16.495500Z",
     "start_time": "2025-07-29T22:18:16.493315Z"
    }
   },
   "source": [
    "n_feats = 2\n",
    "k = 2\n",
    "num_layer = 4\n",
    "hidden_dim = 100\n",
    "latent_dims = list(range(k + 1))[::-1]\n"
   ],
   "outputs": [],
   "execution_count": 100
  },
  {
   "cell_type": "code",
   "id": "70b0cf661f2fb34e",
   "metadata": {
    "ExecuteTime": {
     "end_time": "2025-07-29T22:18:16.615626Z",
     "start_time": "2025-07-29T22:18:16.613678Z"
    }
   },
   "source": [
    "prefix = f\"res/indep/gauss_line/{k}k{num_layer}l{hidden_dim}h/\""
   ],
   "outputs": [],
   "execution_count": 101
  },
  {
   "metadata": {},
   "cell_type": "code",
   "outputs": [],
   "execution_count": null,
   "source": [
    "dpaModel_line = DPA(beta=1.,\n",
    "                    dist_enc=\"deterministic\",\n",
    "                    dist_dec=\"stochastic\",\n",
    "                    data_dim=n_feats,\n",
    "                    latent_dims=latent_dims,\n",
    "                    num_layer=num_layer,\n",
    "                    hidden_dim=hidden_dim,\n",
    "                    noise_dim=100,\n",
    "                    resblock=True,\n",
    "                    standardize=False,\n",
    "                    device=device,\n",
    "                    seed=42\n",
    "                    )\n",
    "\n",
    "dpaModel_line.model.load_state_dict(torch.load(f\"{prefix}/model_{4000}.pt\",\n",
    "                                               ),\n",
    "                                    )\n",
    "\n",
    "dpaModel_line.model = dpaModel_line.model.to(device)\n",
    "dpaModel_line.model.eval();\n",
    "dpaeFunc_line = EncoderModule(dpaModel_line)\n"
   ],
   "id": "1676f3ed2041c671"
  },
  {
   "metadata": {},
   "cell_type": "code",
   "outputs": [],
   "execution_count": null,
   "source": [
    "\n",
    "\n",
    "with torch.no_grad():\n",
    "    z_lat = dpaModel_line.encode(X_line.to(device))\n",
    "    X_prime = dpaModel_line.decode(z_lat.to(device),\n",
    "                                   mean=False,\n",
    "                                   gen_sample_size=1\n",
    "                                   ).squeeze().cpu().numpy()\n",
    "    U2 = z_lat[:, 1].unsqueeze(-1).cpu().numpy()\n",
    "    Z1 = z_lat[:, 0].unsqueeze(-1).cpu().numpy()"
   ],
   "id": "b19de8f2994c526b"
  },
  {
   "metadata": {},
   "cell_type": "markdown",
   "source": [
    "The second latent is a function of the first\n",
    "\n",
    "plt.plot(z_lat[:, 0].cpu().numpy(), z_lat[:, 1].cpu().numpy(), 'o', markersize=1, alpha=0.5);"
   ],
   "id": "40e2b78c9f8a8ef7"
  },
  {
   "cell_type": "markdown",
   "id": "b7937bd0f8064843",
   "metadata": {},
   "source": "## Numerical results"
  },
  {
   "metadata": {},
   "cell_type": "code",
   "outputs": [],
   "execution_count": null,
   "source": "",
   "id": "e26fce720f84d180"
  },
  {
   "metadata": {
    "ExecuteTime": {
     "end_time": "2025-07-27T01:33:23.870308Z",
     "start_time": "2025-07-27T01:33:23.850812Z"
    }
   },
   "cell_type": "code",
   "outputs": [
    {
     "data": {
      "text/plain": [
       "{'max_err': np.float32(0.0075110905),\n",
       " 'mean_err': np.float32(0.0016064142),\n",
       " 'R2': 0.9996650218963623,\n",
       " 'passed': np.True_}"
      ]
     },
     "execution_count": 88,
     "metadata": {},
     "output_type": "execute_result"
    }
   ],
   "execution_count": 88,
   "source": [
    "res = determinism_check(Z1, U2, model='spline', n_knots=25,\n",
    "                        r2_threshold=0.999, maxerr_threshold=5e-2)\n",
    "res"
   ],
   "id": "fb5fad6c71eee5a3"
  },
  {
   "metadata": {
    "ExecuteTime": {
     "end_time": "2025-07-27T01:33:24.895372Z",
     "start_time": "2025-07-27T01:33:24.402463Z"
    }
   },
   "cell_type": "code",
   "outputs": [
    {
     "data": {
      "text/plain": [
       "{'max_err': np.float64(0.027534477090315312),\n",
       " 'mean_err': np.float64(0.0011049277551525552),\n",
       " 'R2': 0.99984281052703,\n",
       " 'passed': np.True_}"
      ]
     },
     "execution_count": 89,
     "metadata": {},
     "output_type": "execute_result"
    }
   ],
   "execution_count": 89,
   "source": [
    "res = determinism_check(Z1, U2, model='rf', n_estimators=400, min_samples_leaf=2,\n",
    "                        r2_threshold=0.999, maxerr_threshold=5e-2)\n",
    "res"
   ],
   "id": "a708edabf8e1cc3f"
  },
  {
   "metadata": {},
   "cell_type": "markdown",
   "source": "Polynomial fit is kinda useless anyway, just use non-parametric regression",
   "id": "e9a6a2ae687e01e2"
  },
  {
   "metadata": {},
   "cell_type": "code",
   "outputs": [],
   "execution_count": null,
   "source": [
    "res = determinism_check(Z1, U2, model='poly', degree=15,\n",
    "                        r2_threshold=0.999, maxerr_threshold=5e-2)\n",
    "res"
   ],
   "id": "c2fba8219c6ed1f8"
  },
  {
   "metadata": {},
   "cell_type": "code",
   "outputs": [],
   "execution_count": null,
   "source": [
    "\n",
    "h_u_given_z = conditional_entropy(U2, Z1, k=5)\n",
    "print(\"H(U|Z) ≈\", h_u_given_z, \"nats\")"
   ],
   "id": "c7799e72f7ceab2b"
  },
  {
   "metadata": {},
   "cell_type": "code",
   "outputs": [],
   "execution_count": null,
   "source": [
    "\n",
    "dim_dict = intrinsic_dim_drop(Z1, U2, estimator=\"MLE\",\n",
    "\n",
    "                              )\n",
    "print(dim_dict)\n",
    "\n",
    "drops, percentiles = bootstrap_dim_drop(\n",
    "    Z1,\n",
    "    U2,\n",
    "    n_boot=200,\n",
    "    k=15,\n",
    "    jitter=0.001\n",
    ")\n",
    "\n"
   ],
   "id": "87ae9ee23e1dc83"
  },
  {
   "metadata": {},
   "cell_type": "code",
   "outputs": [],
   "execution_count": null,
   "source": "percentiles",
   "id": "6b32fd3582d0e225"
  },
  {
   "metadata": {},
   "cell_type": "markdown",
   "source": "# Parabola",
   "id": "2c7777e041df1293"
  },
  {
   "metadata": {
    "ExecuteTime": {
     "end_time": "2025-07-29T22:24:50.606065Z",
     "start_time": "2025-07-29T22:24:50.602190Z"
    }
   },
   "cell_type": "code",
   "source": "X_parabola = torch.load(\"data/indep/parabola/data_10000_42.pt\")",
   "id": "7cbfda5193723cd5",
   "outputs": [],
   "execution_count": 124
  },
  {
   "metadata": {
    "ExecuteTime": {
     "end_time": "2025-07-29T22:25:09.840843Z",
     "start_time": "2025-07-29T22:25:09.838179Z"
    }
   },
   "cell_type": "code",
   "source": [
    "n_feats = 2\n",
    "k = 2\n",
    "num_layer = 4\n",
    "hidden_dim = 100\n",
    "latent_dims = list(range(k + 1))[::-1]"
   ],
   "id": "94139d5871eb2473",
   "outputs": [],
   "execution_count": 125
  },
  {
   "metadata": {
    "ExecuteTime": {
     "end_time": "2025-07-29T22:25:17.468250Z",
     "start_time": "2025-07-29T22:25:17.465965Z"
    }
   },
   "cell_type": "code",
   "source": "prefix = f\"res/indep/parabola/{k}k{num_layer}l{hidden_dim}h/\"",
   "id": "cce11f48e7d5b75c",
   "outputs": [],
   "execution_count": 126
  },
  {
   "metadata": {},
   "cell_type": "code",
   "outputs": [],
   "execution_count": null,
   "source": [
    "dpaModel_parabola = DPA(beta=1.,\n",
    "                        dist_enc=\"deterministic\",\n",
    "                        dist_dec=\"stochastic\",\n",
    "                        data_dim=n_feats,\n",
    "                        latent_dims=latent_dims,\n",
    "                        num_layer=num_layer,\n",
    "                        hidden_dim=hidden_dim,\n",
    "                        noise_dim=hidden_dim,\n",
    "                        resblock=True,\n",
    "                        standardize=False,\n",
    "                        device=device,\n",
    "                        seed=42\n",
    "                        )\n"
   ],
   "id": "baa7535648980d6"
  },
  {
   "metadata": {},
   "cell_type": "code",
   "outputs": [],
   "execution_count": null,
   "source": [
    "\n",
    "a = extract_first_numbers_after_epoch(f\"{prefix}/log.txt\")\n",
    "plt.plot(a[1:, 0], a[1:, 1])\n",
    "\n",
    "argmin = np.argmin(a[1:, 1])\n",
    "plt.axvline(a[argmin + 1, 0], c=\"r\")\n",
    "plt.axhline(0);\n",
    "a[argmin + 1, 0], a[argmin + 1, 1]\n",
    "\n",
    "dpaModel_parabola.model.load_state_dict(torch.load(f\"{prefix}/model_{int(a[argmin + 1, 0])}.pt\"))\n",
    "dpaModel_parabola.model = dpaModel_parabola.model.to(device)\n",
    "dpaModel_parabola.model.eval();\n",
    "dpaeFunc_parabola = EncoderModule(dpaModel_parabola)\n"
   ],
   "id": "1b48bf3475509fc8"
  },
  {
   "metadata": {},
   "cell_type": "code",
   "outputs": [],
   "execution_count": null,
   "source": "dpaModel_parabola.plot_mse(X_parabola.to(device), xscale=\"linear\")",
   "id": "caa88d9c81cff706"
  },
  {
   "metadata": {
    "ExecuteTime": {
     "end_time": "2025-07-29T22:29:02.032054Z",
     "start_time": "2025-07-29T22:29:01.802045Z"
    }
   },
   "cell_type": "code",
   "source": "dpaModel_parabola.plot_energy_loss(X_parabola.to(device), xscale=\"linear\")",
   "id": "beb1ee501ee8e03f",
   "outputs": [
    {
     "data": {
      "text/plain": [
       "<Figure size 480x320 with 1 Axes>"
      ],
      "image/png": "[encoded data removed]"
     },
     "metadata": {},
     "output_type": "display_data"
    }
   ],
   "execution_count": 132
  },
  {
   "metadata": {},
   "cell_type": "code",
   "outputs": [],
   "execution_count": null,
   "source": [
    "limits = ((X_parabola[:, 0].min() * 1.5, X_parabola[:, 0].max() * 1.5),\n",
    "          (X_parabola[:, 1].min() * 1.5, X_parabola[:, 1].max() * 1.5),)\n",
    "n_components = X_parabola.shape[1]\n",
    "fig, axs = plt.subplots(1, n_components, figsize=(10 * n_components, 8))\n",
    "\n",
    "if n_components == 1:\n",
    "    axs = [axs]\n",
    "for i in range(n_components):\n",
    "    ax = axs[i]\n",
    "    plot_isolines_2D(dpaeFunc_parabola, component=i, levels=25, ax=ax, limits=limits)\n",
    "    plot_isolines_2D(dpaeFunc_parabola, component=i, mode='contour', levels=25, ax=ax, limits=limits)\n",
    "\n",
    "    ax.scatter(X_parabola[:, 0], X_parabola[:, 1], s=1, c=\"k\", alpha=0.5)\n",
    "\n",
    "plt.show();\n",
    "\n",
    "with torch.no_grad():\n",
    "    z_lat_parabola = dpaModel_parabola.encode(X_parabola.to(device))\n",
    "    X_prime_parabola = dpaModel_parabola.decode(z_lat_parabola.to(device),\n",
    "                                                mean=False,\n",
    "                                                gen_sample_size=1\n",
    "                                                ).squeeze().cpu().numpy()\n",
    "    U2_parabola = z_lat_parabola[:, 1].unsqueeze(-1).cpu().numpy()\n",
    "    Z1_parabola = z_lat_parabola[:, 0].unsqueeze(-1).cpu().numpy()"
   ],
   "id": "2dc178a57c38026"
  },
  {
   "metadata": {},
   "cell_type": "code",
   "outputs": [],
   "execution_count": null,
   "source": "plt.plot(z_lat_parabola[:, 0].cpu().numpy(), z_lat_parabola[:, 1].cpu().numpy(), 'o', markersize=1, alpha=0.5);",
   "id": "8bf126d868728290"
  },
  {
   "metadata": {},
   "cell_type": "markdown",
   "source": "## Numerical results",
   "id": "1b507be5093acbbf"
  },
  {
   "metadata": {
    "ExecuteTime": {
     "end_time": "2025-07-29T22:31:34.585978Z",
     "start_time": "2025-07-29T22:31:34.554134Z"
    }
   },
   "cell_type": "code",
   "source": [
    "res = determinism_check(Z1_parabola, U2_parabola, model='spline', n_knots=25,\n",
    "                        r2_threshold=0.999, maxerr_threshold=5e-2)\n",
    "res"
   ],
   "id": "f2c26f1dae5ca0b",
   "outputs": [
    {
     "data": {
      "text/plain": [
       "{'max_err': np.float32(0.0017285496),\n",
       " 'mean_err': np.float32(0.0003614097),\n",
       " 'R2': 0.9996746182441711,\n",
       " 'passed': np.True_}"
      ]
     },
     "execution_count": 137,
     "metadata": {},
     "output_type": "execute_result"
    }
   ],
   "execution_count": 137
  },
  {
   "metadata": {
    "ExecuteTime": {
     "end_time": "2025-07-29T22:31:53.126514Z",
     "start_time": "2025-07-29T22:31:52.366104Z"
    }
   },
   "cell_type": "code",
   "source": [
    "res = determinism_check(Z1_parabola, U2_parabola, model='rf', n_estimators=500, min_samples_leaf=2,\n",
    "                        r2_threshold=0.999, maxerr_threshold=5e-2)\n",
    "res"
   ],
   "id": "bdb5359505c3accd",
   "outputs": [
    {
     "data": {
      "text/plain": [
       "{'max_err': np.float64(0.004097511623303074),\n",
       " 'mean_err': np.float64(0.0011627267062889047),\n",
       " 'R2': 0.9965256752899714,\n",
       " 'passed': False}"
      ]
     },
     "execution_count": 139,
     "metadata": {},
     "output_type": "execute_result"
    }
   ],
   "execution_count": 139
  },
  {
   "metadata": {},
   "cell_type": "code",
   "outputs": [],
   "execution_count": null,
   "source": [
    "res = determinism_check(Z1_parabola, U2_parabola, model='poly', degree=15,\n",
    "                        r2_threshold=0.999, maxerr_threshold=5e-2)\n",
    "res"
   ],
   "id": "88381e4d00d10088"
  },
  {
   "metadata": {},
   "cell_type": "code",
   "outputs": [],
   "execution_count": null,
   "source": [
    "\n",
    "h_u_given_z = conditional_entropy(U2_parabola, Z1_parabola, k=5)\n",
    "print(\"H(U|Z) ≈\", h_u_given_z, \"nats\")"
   ],
   "id": "deb6610ee1db8f92"
  },
  {
   "metadata": {},
   "cell_type": "code",
   "outputs": [],
   "execution_count": null,
   "source": [
    "\n",
    "dim_dict = intrinsic_dim_drop(Z1_parabola, U2_parabola, estimator=\"MLE\",\n",
    "\n",
    "                              )\n",
    "print(dim_dict)\n"
   ],
   "id": "dd62b5b11f09d337"
  },
  {
   "metadata": {},
   "cell_type": "code",
   "outputs": [],
   "execution_count": null,
   "source": [
    "percentiles_parabola, drops_parabola = bootstrap_dim_drop(\n",
    "    Z1_parabola,\n",
    "    U2_parabola,\n",
    "    n_boot=200,\n",
    "    k=15)"
   ],
   "id": "45aba5afa3948d91"
  },
  {
   "metadata": {},
   "cell_type": "code",
   "outputs": [],
   "execution_count": null,
   "source": "percentiles_parabola",
   "id": "57bed5482157ba3c"
  },
  {
   "metadata": {},
   "cell_type": "code",
   "outputs": [],
   "execution_count": null,
   "source": [
    "joblib.dump(\n",
    "    {\n",
    "        \"drops\"      : drops_parabola,\n",
    "        \"percentiles\": percentiles_parabola\n",
    "    },\n",
    "    f\"{prefix}/bootstrap_dim_drop.pt\"\n",
    ")"
   ],
   "id": "f96a79f60971f832"
  },
  {
   "metadata": {},
   "cell_type": "markdown",
   "source": "# Exponential",
   "id": "6dab23f9619525aa"
  },
  {
   "metadata": {
    "ExecuteTime": {
     "end_time": "2025-07-29T22:41:31.139467Z",
     "start_time": "2025-07-29T22:41:31.134462Z"
    }
   },
   "cell_type": "code",
   "source": "X_exponential = torch.load(\"data/indep/exponential/data_10000_42.pt\")",
   "id": "1dffec782f962535",
   "outputs": [],
   "execution_count": 150
  },
  {
   "metadata": {
    "ExecuteTime": {
     "end_time": "2025-07-29T22:41:31.176765Z",
     "start_time": "2025-07-29T22:41:31.174506Z"
    }
   },
   "cell_type": "code",
   "source": [
    "n_feats = 2\n",
    "k = 2\n",
    "num_layer = 4\n",
    "hidden_dim = 100\n",
    "latent_dims = list(range(k + 1))[::-1]"
   ],
   "id": "8bca1c9673915ef2",
   "outputs": [],
   "execution_count": 151
  },
  {
   "metadata": {
    "ExecuteTime": {
     "end_time": "2025-07-29T22:41:31.233290Z",
     "start_time": "2025-07-29T22:41:31.231348Z"
    }
   },
   "cell_type": "code",
   "source": "prefix = f\"res/indep/exponential/{k}k{num_layer}l{hidden_dim}h/\"",
   "id": "e8c0bea3fb522dd0",
   "outputs": [],
   "execution_count": 152
  },
  {
   "metadata": {},
   "cell_type": "code",
   "outputs": [],
   "execution_count": null,
   "source": [
    "dpaModel_exponential = DPA(beta=1.,\n",
    "                           dist_enc=\"deterministic\",\n",
    "                           dist_dec=\"stochastic\",\n",
    "                           data_dim=n_feats,\n",
    "                           latent_dims=latent_dims,\n",
    "                           num_layer=num_layer,\n",
    "                           hidden_dim=hidden_dim,\n",
    "                           noise_dim=hidden_dim,\n",
    "                           resblock=True,\n",
    "                           standardize=False,\n",
    "                           device=device,\n",
    "                           seed=42\n",
    "                           )\n"
   ],
   "id": "d4064146e82d86a2"
  },
  {
   "metadata": {},
   "cell_type": "code",
   "outputs": [],
   "execution_count": null,
   "source": [
    "\n",
    "a = extract_first_numbers_after_epoch(f\"{prefix}/log.txt\")\n",
    "plt.plot(a[1:, 0], a[1:, 1])\n",
    "\n",
    "argmin = np.argmin(a[1:, 1])\n",
    "plt.axvline(a[argmin + 1, 0], c=\"r\")\n",
    "plt.axhline(0);\n",
    "a[argmin + 1, 0], a[argmin + 1, 1]\n",
    "\n",
    "dpaModel_exponential.model.load_state_dict(torch.load(f\"{prefix}/model_{int(a[argmin + 1, 0])}.pt\"))\n",
    "dpaModel_exponential.model = dpaModel_exponential.model.to(device)\n",
    "dpaModel_exponential.model.eval();\n",
    "dpaeFunc_exponential = EncoderModule(dpaModel_exponential)\n"
   ],
   "id": "a2e9dfcaeb1cbd4d"
  },
  {
   "metadata": {},
   "cell_type": "code",
   "outputs": [],
   "execution_count": null,
   "source": "dpaModel_exponential.plot_mse(X_exponential.to(device), xscale=\"linear\")",
   "id": "c910a496441dfdb7"
  },
  {
   "metadata": {
    "ExecuteTime": {
     "end_time": "2025-07-29T22:41:32.234550Z",
     "start_time": "2025-07-29T22:41:32.123531Z"
    }
   },
   "cell_type": "code",
   "source": "dpaModel_exponential.plot_energy_loss(X_exponential.to(device), xscale=\"linear\")",
   "id": "6f35601c1dd7cd86",
   "outputs": [
    {
     "data": {
      "text/plain": [
       "<Figure size 480x320 with 1 Axes>"
      ],
      "image/png": "[encoded data removed]"
     },
     "metadata": {},
     "output_type": "display_data"
    }
   ],
   "execution_count": 157
  },
  {
   "metadata": {
    "ExecuteTime": {
     "end_time": "2025-07-29T22:41:51.104250Z",
     "start_time": "2025-07-29T22:41:32.300048Z"
    }
   },
   "cell_type": "code",
   "source": [
    "limits = ((X_exponential[:, 0].min() * 1.5, X_exponential[:, 0].max() * 1.5),\n",
    "          (X_exponential[:, 1].min() * 1.5, X_exponential[:, 1].max() * 1.5),)\n",
    "n_components = X_exponential.shape[1]\n",
    "fig, axs = plt.subplots(1, n_components, figsize=(10 * n_components, 8))\n",
    "\n",
    "if n_components == 1:\n",
    "    axs = [axs]\n",
    "for i in range(n_components):\n",
    "    ax = axs[i]\n",
    "    plot_isolines_2D(dpaeFunc_exponential, component=i, levels=25, ax=ax, limits=limits)\n",
    "    plot_isolines_2D(dpaeFunc_exponential, component=i, mode='contour', levels=25, ax=ax, limits=limits)\n",
    "\n",
    "    ax.scatter(X_exponential[:, 0], X_exponential[:, 1], s=1, c=\"k\", alpha=0.5)\n",
    "\n",
    "plt.show();"
   ],
   "id": "71b2fd3959321b7e",
   "outputs": [
    {
     "data": {
      "text/plain": [
       "<Figure size 1600x640 with 4 Axes>"
      ],
      "image/png": "[encoded data removed]"
     },
     "metadata": {},
     "output_type": "display_data"
    }
   ],
   "execution_count": 158
  },
  {
   "metadata": {},
   "cell_type": "code",
   "outputs": [],
   "execution_count": null,
   "source": [
    "with torch.no_grad():\n",
    "    z_lat_exponential = dpaModel_exponential.encode(X_exponential.to(device))\n",
    "    X_prime_exponential = dpaModel_exponential.decode(z_lat_exponential.to(device),\n",
    "                                                      mean=False,\n",
    "                                                      gen_sample_size=1\n",
    "                                                      ).squeeze().cpu().numpy()\n",
    "    U2_exponential = z_lat_exponential[:, 1].unsqueeze(-1).cpu().numpy()\n",
    "    Z1_exponential = z_lat_exponential[:, 0].unsqueeze(-1).cpu().numpy()\n",
    "\n",
    "plt.plot(z_lat_exponential[:, 0].cpu().numpy(), z_lat_exponential[:, 1].cpu().numpy(), 'o', markersize=1, alpha=0.5);"
   ],
   "id": "aa0abb6e7fa67cd"
  },
  {
   "metadata": {},
   "cell_type": "markdown",
   "source": "## Numerical results",
   "id": "7192f69b26a566b"
  },
  {
   "metadata": {
    "ExecuteTime": {
     "end_time": "2025-07-29T22:43:35.681429Z",
     "start_time": "2025-07-29T22:43:35.666212Z"
    }
   },
   "cell_type": "code",
   "source": [
    "res = determinism_check(Z1_exponential, U2_exponential, model='spline', n_knots=32,\n",
    "                        r2_threshold=0.999, maxerr_threshold=5e-2)\n",
    "res"
   ],
   "id": "35e887547304ff2e",
   "outputs": [
    {
     "data": {
      "text/plain": [
       "{'max_err': np.float32(0.009131104),\n",
       " 'mean_err': np.float32(0.00080106145),\n",
       " 'R2': 0.9995642304420471,\n",
       " 'passed': np.True_}"
      ]
     },
     "execution_count": 173,
     "metadata": {},
     "output_type": "execute_result"
    }
   ],
   "execution_count": 173
  },
  {
   "metadata": {
    "ExecuteTime": {
     "end_time": "2025-07-29T22:43:29.763519Z",
     "start_time": "2025-07-29T22:43:28.310261Z"
    }
   },
   "cell_type": "code",
   "source": [
    "res = determinism_check(Z1_exponential, U2_exponential, model='rf', n_estimators=1000, min_samples_leaf=2,\n",
    "                        r2_threshold=0.999, maxerr_threshold=5e-2)\n",
    "res"
   ],
   "id": "bcb3bc9cdb9cb71a",
   "outputs": [
    {
     "data": {
      "text/plain": [
       "{'max_err': np.float64(0.011540939411891812),\n",
       " 'mean_err': np.float64(0.0026128777335300423),\n",
       " 'R2': 0.996711246893676,\n",
       " 'passed': False}"
      ]
     },
     "execution_count": 172,
     "metadata": {},
     "output_type": "execute_result"
    }
   ],
   "execution_count": 172
  },
  {
   "metadata": {},
   "cell_type": "code",
   "outputs": [],
   "execution_count": null,
   "source": [
    "res = determinism_check(Z1_exponential, U2_exponential, model='poly', degree=8,\n",
    "                        r2_threshold=0.999, maxerr_threshold=5e-2)\n",
    "res"
   ],
   "id": "f3402a5da6a3d523"
  },
  {
   "metadata": {},
   "cell_type": "code",
   "outputs": [],
   "execution_count": null,
   "source": [
    "\n",
    "h_u_given_z = conditional_entropy(U2_exponential, Z1_exponential, k=5)\n",
    "print(\"H(U|Z) ≈\", h_u_given_z, \"nats\")"
   ],
   "id": "1121fc7c4740ce8"
  },
  {
   "metadata": {},
   "cell_type": "code",
   "outputs": [],
   "execution_count": null,
   "source": [
    "\n",
    "dim_dict = intrinsic_dim_drop(Z1_exponential, U2_exponential, estimator=\"MLE\",\n",
    "\n",
    "                              )\n",
    "print(dim_dict)\n"
   ],
   "id": "6c9f8f6947db06e5"
  },
  {
   "metadata": {},
   "cell_type": "code",
   "outputs": [],
   "execution_count": null,
   "source": [
    "percentiles_exponential, drops_exponential = bootstrap_dim_drop(\n",
    "    Z1_exponential,\n",
    "    U2_exponential,\n",
    "    n_boot=200,\n",
    "    k=15)\n",
    "percentiles_exponential"
   ],
   "id": "e684ed38129489f6"
  },
  {
   "metadata": {},
   "cell_type": "code",
   "outputs": [],
   "execution_count": null,
   "source": [
    "joblib.dump(\n",
    "    {\n",
    "        \"drops\"      : drops_exponential,\n",
    "        \"percentiles\": percentiles_exponential\n",
    "    },\n",
    "    f\"{prefix}/bootstrap_dim_drop.pt\"\n",
    ")"
   ],
   "id": "1426801bec795d81"
  },
  {
   "metadata": {},
   "cell_type": "markdown",
   "source": "# Helix slice",
   "id": "5603c531515920f5"
  },
  {
   "metadata": {
    "ExecuteTime": {
     "end_time": "2025-07-29T22:47:52.779041Z",
     "start_time": "2025-07-29T22:47:52.774472Z"
    }
   },
   "cell_type": "code",
   "source": "X_helix_slice = torch.load(\"data/indep/helix_slice/data_10000_42.pt\")",
   "id": "4669d029db42f31d",
   "outputs": [],
   "execution_count": 174
  },
  {
   "metadata": {
    "ExecuteTime": {
     "end_time": "2025-07-29T22:47:52.836276Z",
     "start_time": "2025-07-29T22:47:52.833924Z"
    }
   },
   "cell_type": "code",
   "source": [
    "n_feats = 2\n",
    "k = 2\n",
    "num_layer = 4\n",
    "hidden_dim = 100\n",
    "latent_dims = list(range(k + 1))[::-1]"
   ],
   "id": "1efb3dba25191f53",
   "outputs": [],
   "execution_count": 175
  },
  {
   "metadata": {
    "ExecuteTime": {
     "end_time": "2025-07-29T22:47:52.876658Z",
     "start_time": "2025-07-29T22:47:52.874664Z"
    }
   },
   "cell_type": "code",
   "source": "prefix = f\"res/indep/helix_slice/{k}k{num_layer}l{hidden_dim}h/\"",
   "id": "ceeec3dccd733999",
   "outputs": [],
   "execution_count": 176
  },
  {
   "metadata": {},
   "cell_type": "code",
   "outputs": [],
   "execution_count": null,
   "source": [
    "dpaModel_helix_slice = DPA(beta=1.,\n",
    "                           dist_enc=\"deterministic\",\n",
    "                           dist_dec=\"stochastic\",\n",
    "                           data_dim=n_feats,\n",
    "                           latent_dims=latent_dims,\n",
    "                           num_layer=num_layer,\n",
    "                           hidden_dim=hidden_dim,\n",
    "                           noise_dim=hidden_dim,\n",
    "                           resblock=True,\n",
    "                           standardize=False,\n",
    "                           device=device,\n",
    "                           seed=42\n",
    "                           )\n"
   ],
   "id": "2d1e3063a6a8fc35"
  },
  {
   "metadata": {},
   "cell_type": "code",
   "outputs": [],
   "execution_count": null,
   "source": [
    "\n",
    "a = extract_first_numbers_after_epoch(f\"{prefix}/log.txt\")\n",
    "plt.plot(a[1:, 0], a[1:, 1])\n",
    "\n",
    "argmin = np.argmin(a[1:, 1])\n",
    "plt.axvline(a[argmin + 1, 0], c=\"r\")\n",
    "plt.axhline(0);\n",
    "a[argmin + 1, 0], a[argmin + 1, 1]"
   ],
   "id": "51c8e40fef7d3dd0"
  },
  {
   "metadata": {},
   "cell_type": "code",
   "outputs": [],
   "execution_count": null,
   "source": [
    "dpaModel_helix_slice.model.load_state_dict(torch.load(f\"{prefix}/model_{int(a[argmin + 1, 0])}.pt\"))\n",
    "dpaModel_helix_slice.model = dpaModel_helix_slice.model.to(device)\n",
    "dpaModel_helix_slice.model.eval();\n",
    "dpaeFunc_helix_slice = EncoderModule(dpaModel_helix_slice)\n"
   ],
   "id": "20cee22267d9f6d9"
  },
  {
   "metadata": {},
   "cell_type": "code",
   "outputs": [],
   "execution_count": null,
   "source": "dpaModel_helix_slice.plot_mse(X_helix_slice.to(device), xscale=\"linear\")",
   "id": "74341c3c385aaf4b"
  },
  {
   "metadata": {
    "ExecuteTime": {
     "end_time": "2025-07-29T22:47:53.870032Z",
     "start_time": "2025-07-29T22:47:53.761871Z"
    }
   },
   "cell_type": "code",
   "source": "dpaModel_helix_slice.plot_energy_loss(X_helix_slice.to(device), xscale=\"linear\")",
   "id": "62e86f83ade3ddfa",
   "outputs": [
    {
     "data": {
      "text/plain": [
       "<Figure size 480x320 with 1 Axes>"
      ],
      "image/png": "[encoded data removed]"
     },
     "metadata": {},
     "output_type": "display_data"
    }
   ],
   "execution_count": 181
  },
  {
   "metadata": {},
   "cell_type": "code",
   "outputs": [],
   "execution_count": null,
   "source": [
    "limits = ((X_helix_slice[:, 0].min() * 1.5, X_helix_slice[:, 0].max() * 1.5),\n",
    "          (X_helix_slice[:, 1].min() * 1.5, X_helix_slice[:, 1].max() * 1.5),)\n",
    "n_components = X_helix_slice.shape[1]\n",
    "fig, axs = plt.subplots(1, n_components, figsize=(10 * n_components, 8))\n",
    "\n",
    "if n_components == 1:\n",
    "    axs = [axs]\n",
    "for i in range(n_components):\n",
    "    ax = axs[i]\n",
    "    plot_isolines_2D(dpaeFunc_helix_slice, component=i, levels=25, ax=ax, limits=limits)\n",
    "    plot_isolines_2D(dpaeFunc_helix_slice, component=i, mode='contour', levels=25, ax=ax, limits=limits)\n",
    "\n",
    "    ax.scatter(X_helix_slice[:, 0], X_helix_slice[:, 1], s=1, c=\"k\", alpha=0.5)\n",
    "\n",
    "plt.show();\n",
    "\n",
    "with torch.no_grad():\n",
    "    z_lat_helix_slice = dpaModel_helix_slice.encode(X_helix_slice.to(device))\n",
    "    X_prime_helix_slice = dpaModel_helix_slice.decode(z_lat_helix_slice.to(device),\n",
    "                                                      mean=False,\n",
    "                                                      gen_sample_size=1\n",
    "                                                      ).squeeze().cpu().numpy()\n",
    "    U2_helix_slice = z_lat_helix_slice[:, 1].unsqueeze(-1).cpu().numpy()\n",
    "    Z1_helix_slice = z_lat_helix_slice[:, 0].unsqueeze(-1).cpu().numpy()"
   ],
   "id": "4d80d6a8bee077d3"
  },
  {
   "metadata": {},
   "cell_type": "code",
   "outputs": [],
   "execution_count": null,
   "source": "plt.plot(z_lat_helix_slice[:, 0].cpu().numpy(), z_lat_helix_slice[:, 1].cpu().numpy(), 'o', markersize=1, alpha=0.5);",
   "id": "b128a3dbfb042b3a"
  },
  {
   "metadata": {},
   "cell_type": "markdown",
   "source": "## Numerical results",
   "id": "60ed796acdb87f3c"
  },
  {
   "metadata": {
    "ExecuteTime": {
     "end_time": "2025-07-29T22:48:12.839201Z",
     "start_time": "2025-07-29T22:48:12.822883Z"
    }
   },
   "cell_type": "code",
   "source": [
    "res = determinism_check(Z1_helix_slice, U2_helix_slice, model='spline', n_knots=32,\n",
    "                        r2_threshold=0.999, maxerr_threshold=5e-2)\n",
    "res"
   ],
   "id": "1de45e5cc3fb089a",
   "outputs": [
    {
     "data": {
      "text/plain": [
       "{'max_err': np.float32(0.028814256),\n",
       " 'mean_err': np.float32(0.0039503104),\n",
       " 'R2': 0.9994865655899048,\n",
       " 'passed': np.True_}"
      ]
     },
     "execution_count": 185,
     "metadata": {},
     "output_type": "execute_result"
    }
   ],
   "execution_count": 185
  },
  {
   "metadata": {
    "ExecuteTime": {
     "end_time": "2025-07-29T22:49:54.023266Z",
     "start_time": "2025-07-29T22:49:53.434225Z"
    }
   },
   "cell_type": "code",
   "source": [
    "res = determinism_check(Z1_helix_slice, U2_helix_slice, model='rf', n_estimators=400, min_samples_leaf=2,\n",
    "                        r2_threshold=0.999, maxerr_threshold=5e-2)\n",
    "res"
   ],
   "id": "baa0064fa3ea378d",
   "outputs": [
    {
     "data": {
      "text/plain": [
       "{'max_err': np.float64(0.8227137671014265),\n",
       " 'mean_err': np.float64(0.19074342526301963),\n",
       " 'R2': -0.07618672380263325,\n",
       " 'passed': False}"
      ]
     },
     "execution_count": 193,
     "metadata": {},
     "output_type": "execute_result"
    }
   ],
   "execution_count": 193
  },
  {
   "metadata": {},
   "cell_type": "code",
   "outputs": [],
   "execution_count": null,
   "source": [
    "res = determinism_check(Z1_helix_slice, U2_helix_slice, model='poly', degree=8,\n",
    "                        r2_threshold=0.999, maxerr_threshold=5e-2)\n",
    "res\n",
    "\n",
    "h_u_given_z = conditional_entropy(U2_helix_slice, Z1_helix_slice, k=5)\n",
    "print(\"H(U|Z) ≈\", h_u_given_z, \"nats\")\n",
    "\n",
    "dim_dict = intrinsic_dim_drop(Z1_helix_slice, U2_helix_slice, estimator=\"MLE\",\n",
    "\n",
    "                              )\n",
    "print(dim_dict)\n"
   ],
   "id": "4fa8249eba287dcd"
  },
  {
   "metadata": {},
   "cell_type": "code",
   "outputs": [],
   "execution_count": null,
   "source": [
    "percentiles_helix_slice, drops_helix_slice = bootstrap_dim_drop(\n",
    "    Z1_helix_slice,\n",
    "    U2_helix_slice,\n",
    "    n_boot=200,\n",
    "    k=15)\n",
    "percentiles_helix_slice"
   ],
   "id": "ed3cf3bdb6231ad1"
  },
  {
   "metadata": {},
   "cell_type": "code",
   "outputs": [],
   "execution_count": null,
   "source": [
    "joblib.dump(\n",
    "    {\n",
    "        \"drops\"      : drops_helix_slice,\n",
    "        \"percentiles\": percentiles_helix_slice\n",
    "    },\n",
    "    f\"{prefix}/bootstrap_dim_drop.pt\"\n",
    ")"
   ],
   "id": "50a81976479dd46b"
  },
  {
   "metadata": {},
   "cell_type": "markdown",
   "source": "# Grid sum",
   "id": "91f29257900caf21"
  },
  {
   "metadata": {
    "ExecuteTime": {
     "end_time": "2025-07-29T22:51:01.175938Z",
     "start_time": "2025-07-29T22:51:01.170923Z"
    }
   },
   "cell_type": "code",
   "source": "X_grid_sum = torch.load(\"data/indep/grid_sum/data_10000_42.pt\")",
   "id": "e5bde664bd7ad018",
   "outputs": [],
   "execution_count": 194
  },
  {
   "metadata": {
    "ExecuteTime": {
     "end_time": "2025-07-29T22:51:08.973394Z",
     "start_time": "2025-07-29T22:51:08.970061Z"
    }
   },
   "cell_type": "code",
   "source": "X_grid_sum.shape",
   "id": "4411de37972a8071",
   "outputs": [
    {
     "data": {
      "text/plain": [
       "torch.Size([3600, 3])"
      ]
     },
     "execution_count": 195,
     "metadata": {},
     "output_type": "execute_result"
    }
   ],
   "execution_count": 195
  },
  {
   "metadata": {
    "ExecuteTime": {
     "end_time": "2025-07-29T22:52:27.701049Z",
     "start_time": "2025-07-29T22:52:27.698246Z"
    }
   },
   "cell_type": "code",
   "source": [
    "n_feats = 3\n",
    "k = 3\n",
    "num_layer = 4\n",
    "hidden_dim = 100\n",
    "latent_dims = list(range(k + 1))[::-1]"
   ],
   "id": "c69fb006ce8faea0",
   "outputs": [],
   "execution_count": 196
  },
  {
   "metadata": {
    "ExecuteTime": {
     "end_time": "2025-07-29T22:52:29.016768Z",
     "start_time": "2025-07-29T22:52:29.014221Z"
    }
   },
   "cell_type": "code",
   "source": "prefix = f\"res/indep/grid_sum/{k}k{num_layer}l{hidden_dim}h/\"",
   "id": "fa9c8d925386fdb0",
   "outputs": [],
   "execution_count": 197
  },
  {
   "metadata": {},
   "cell_type": "code",
   "outputs": [],
   "execution_count": null,
   "source": [
    "dpaModel_grid_sum = DPA(beta=1.,\n",
    "                        dist_enc=\"deterministic\",\n",
    "                        dist_dec=\"stochastic\",\n",
    "                        data_dim=n_feats,\n",
    "                        latent_dims=latent_dims,\n",
    "                        num_layer=num_layer,\n",
    "                        hidden_dim=hidden_dim,\n",
    "                        noise_dim=hidden_dim,\n",
    "                        resblock=True,\n",
    "                        standardize=False,\n",
    "                        device=device,\n",
    "                        seed=42\n",
    "                        )\n"
   ],
   "id": "3f4039e46a63defc"
  },
  {
   "metadata": {},
   "cell_type": "code",
   "outputs": [],
   "execution_count": null,
   "source": [
    "\n",
    "a = extract_first_numbers_after_epoch(f\"{prefix}/log.txt\")\n",
    "plt.plot(a[1:, 0], a[1:, 1])\n",
    "\n",
    "argmin = np.argmin(a[1:, 1])\n",
    "plt.axvline(a[argmin + 1, 0], c=\"r\")\n",
    "plt.axhline(0);\n",
    "a[argmin + 1, 0], a[argmin + 1, 1]\n",
    "\n",
    "dpaModel_grid_sum.model.load_state_dict(torch.load(f\"{prefix}/model_{int(a[argmin + 1, 0])}.pt\"))\n",
    "dpaModel_grid_sum.model = dpaModel_grid_sum.model.to(device)\n",
    "dpaModel_grid_sum.model.eval();\n",
    "dpaeFunc_grid_sum = EncoderModule(dpaModel_grid_sum)\n"
   ],
   "id": "bf702985d68a1110"
  },
  {
   "metadata": {},
   "cell_type": "code",
   "outputs": [],
   "execution_count": null,
   "source": "dpaModel_grid_sum.plot_mse(X_grid_sum.to(device), xscale=\"linear\")",
   "id": "52d95fe165a0c77b"
  },
  {
   "metadata": {
    "ExecuteTime": {
     "end_time": "2025-07-29T22:52:58.661891Z",
     "start_time": "2025-07-29T22:52:58.529966Z"
    }
   },
   "cell_type": "code",
   "source": "dpaModel_grid_sum.plot_energy_loss(X_grid_sum.to(device), xscale=\"linear\")",
   "id": "94891ce5c2d07f50",
   "outputs": [
    {
     "data": {
      "text/plain": [
       "<Figure size 480x320 with 1 Axes>"
      ],
      "image/png": "[encoded data removed]"
     },
     "metadata": {},
     "output_type": "display_data"
    }
   ],
   "execution_count": 203
  },
  {
   "metadata": {},
   "cell_type": "code",
   "outputs": [],
   "execution_count": null,
   "source": [
    "\n",
    "\n",
    "\n",
    "\n",
    "\n",
    "\n",
    "\n",
    "\n",
    "\n",
    "\n",
    "\n",
    "\n",
    "\n",
    "\n"
   ],
   "id": "96ce1e7d72fc51e"
  },
  {
   "metadata": {},
   "cell_type": "code",
   "outputs": [],
   "execution_count": null,
   "source": [
    "with torch.no_grad():\n",
    "    z_lat_grid_sum = dpaModel_grid_sum.encode(X_grid_sum.to(device))\n",
    "    X_prime_grid_sum = dpaModel_grid_sum.decode(z_lat_grid_sum.to(device),\n",
    "                                                mean=False,\n",
    "                                                gen_sample_size=1\n",
    "                                                ).squeeze().cpu().numpy()\n",
    "    U2_grid_sum = z_lat_grid_sum[:, 2:].cpu().numpy()\n",
    "    Z1_grid_sum = z_lat_grid_sum[:, :2].cpu().numpy()"
   ],
   "id": "bc0c1a2936c18daa"
  },
  {
   "metadata": {},
   "cell_type": "code",
   "outputs": [],
   "execution_count": null,
   "source": [
    "plt.scatter(z_lat_grid_sum[:, 0].cpu().numpy(),\n",
    "            z_lat_grid_sum[:, 2].cpu().numpy(),\n",
    "\n",
    "            );"
   ],
   "id": "e9dc3c96379322e4"
  },
  {
   "metadata": {},
   "cell_type": "code",
   "outputs": [],
   "execution_count": null,
   "source": "plot_3d(z_lat_grid_sum.cpu().numpy())",
   "id": "21138f00c15fe002"
  },
  {
   "metadata": {},
   "cell_type": "markdown",
   "source": "## Numerical results",
   "id": "e0f7fd4c76846aca"
  },
  {
   "metadata": {
    "ExecuteTime": {
     "end_time": "2025-07-29T22:57:33.585041Z",
     "start_time": "2025-07-29T22:57:33.502197Z"
    }
   },
   "cell_type": "code",
   "source": [
    "res = determinism_check(Z1_grid_sum, U2_grid_sum, model='spline', n_knots=64,\n",
    "                        r2_threshold=0.999, maxerr_threshold=5e-2)\n",
    "res"
   ],
   "id": "e989b6597d7c6257",
   "outputs": [
    {
     "data": {
      "text/plain": [
       "{'max_err': np.float32(0.34586316),\n",
       " 'mean_err': np.float32(0.09877881),\n",
       " 'R2': 0.9138873219490051,\n",
       " 'passed': False}"
      ]
     },
     "execution_count": 223,
     "metadata": {},
     "output_type": "execute_result"
    }
   ],
   "execution_count": 223
  },
  {
   "metadata": {
    "ExecuteTime": {
     "end_time": "2025-07-29T22:57:36.540211Z",
     "start_time": "2025-07-29T22:57:35.250213Z"
    }
   },
   "cell_type": "code",
   "source": [
    "res = determinism_check(Z1_grid_sum, U2_grid_sum, model='rf', n_estimators=1000, min_samples_leaf=2,\n",
    "                        r2_threshold=0.999, maxerr_threshold=5e-2)\n",
    "res"
   ],
   "id": "e4685059751fe05",
   "outputs": [
    {
     "data": {
      "text/plain": [
       "{'max_err': np.float64(0.08232153701399036),\n",
       " 'mean_err': np.float64(0.020199718202701434),\n",
       " 'R2': 0.9963564505435076,\n",
       " 'passed': False}"
      ]
     },
     "execution_count": 224,
     "metadata": {},
     "output_type": "execute_result"
    }
   ],
   "execution_count": 224
  },
  {
   "metadata": {
    "ExecuteTime": {
     "end_time": "2025-07-29T22:57:58.240105Z",
     "start_time": "2025-07-29T22:57:58.230118Z"
    }
   },
   "cell_type": "code",
   "source": [
    "res = determinism_check(Z1_grid_sum, U2_grid_sum, model='poly', degree=7,\n",
    "                        r2_threshold=0.999, maxerr_threshold=5e-2)\n",
    "res"
   ],
   "id": "7a4ca80dead07f65",
   "outputs": [
    {
     "data": {
      "text/plain": [
       "{'max_err': np.float32(0.08691144),\n",
       " 'mean_err': np.float32(0.012420985),\n",
       " 'R2': 0.998581051826477,\n",
       " 'passed': False}"
      ]
     },
     "execution_count": 229,
     "metadata": {},
     "output_type": "execute_result"
    }
   ],
   "execution_count": 229
  },
  {
   "metadata": {},
   "cell_type": "code",
   "outputs": [],
   "execution_count": null,
   "source": [
    "\n",
    "h_u_given_z = conditional_entropy(U2_grid_sum, Z1_grid_sum, k=5)\n",
    "print(\"H(U|Z) ≈\", h_u_given_z, \"nats\")"
   ],
   "id": "15af89b07846d664"
  },
  {
   "metadata": {},
   "cell_type": "code",
   "outputs": [],
   "execution_count": null,
   "source": [
    "\n",
    "dim_dict = intrinsic_dim_drop(Z1_grid_sum, U2_grid_sum, estimator=\"MLE\",\n",
    "\n",
    "                              )\n",
    "print(dim_dict)\n"
   ],
   "id": "26183b6c2a1b3147"
  },
  {
   "metadata": {},
   "cell_type": "code",
   "outputs": [],
   "execution_count": null,
   "source": [
    "percentiles_grid_sum, drops_grid_sum = bootstrap_dim_drop(\n",
    "    Z1_grid_sum,\n",
    "    U2_grid_sum,\n",
    "    n_boot=200,\n",
    "    k=15)\n",
    "percentiles_grid_sum"
   ],
   "id": "36c706b011c8d1bf"
  },
  {
   "metadata": {},
   "cell_type": "code",
   "outputs": [],
   "execution_count": null,
   "source": [
    "joblib.dump(\n",
    "    {\n",
    "        \"drops\"      : drops_grid_sum,\n",
    "        \"percentiles\": percentiles_grid_sum\n",
    "    },\n",
    "    f\"{prefix}/bootstrap_dim_drop.pt\"\n",
    ")"
   ],
   "id": "e1cc8848d04d2760"
  }
 ],
 "metadata": {
  "kernelspec": {
   "display_name": ".venv_collVar",
   "language": "python",
   "name": ".venv_collvar"
  },
  "language_info": {
   "codemirror_mode": {
    "name": "ipython",
    "version": 3
   },
   "file_extension": ".py",
   "mimetype": "text/x-python",
   "name": "python",
   "nbconvert_exporter": "python",
   "pygments_lexer": "ipython3",
   "version": "3.12.1"
  }
 },
 "nbformat": 4,
 "nbformat_minor": 5
}
